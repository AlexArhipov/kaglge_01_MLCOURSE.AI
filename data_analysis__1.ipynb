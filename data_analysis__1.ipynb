{
  "nbformat": 4,
  "nbformat_minor": 0,
  "metadata": {
    "colab": {
      "name": "data_analysis__1.ipynb",
      "provenance": []
    },
    "kernelspec": {
      "name": "python3",
      "display_name": "Python 3"
    },
    "language_info": {
      "name": "python"
    }
  },
  "cells": [
    {
      "cell_type": "markdown",
      "metadata": {
        "id": "UdpNkVNq5zNs"
      },
      "source": [
        "### Exploratory data analysis with Pandas (Open Machine Learning Course)\n",
        "data set : https://drive.google.com/file/d/1V4ayLAcdLsxgUSLS69vP_9w7jiRAmvyJ/view?usp=sharing"
      ]
    },
    {
      "cell_type": "code",
      "metadata": {
        "id": "x3LmLlEM5D4q"
      },
      "source": [
        "import numpy as np\n",
        "import pandas as pd\n",
        "pd.options.display.float_format = '{:,.1f}'.format # пеобразование вывода больших  числовх значений в нормальный и разделение запятой групп цифр"
      ],
      "execution_count": null,
      "outputs": []
    },
    {
      "cell_type": "code",
      "metadata": {
        "colab": {
          "base_uri": "https://localhost:8080/",
          "height": 204
        },
        "id": "7zqj6JA-67HL",
        "outputId": "d4c479e4-d4d6-4b74-e962-2ff10388c2f2"
      },
      "source": [
        "df = pd.read_csv(\"/content/adult.data.csv\")\n",
        "df.head()"
      ],
      "execution_count": null,
      "outputs": [
        {
          "output_type": "execute_result",
          "data": {
            "text/html": [
              "<div>\n",
              "<style scoped>\n",
              "    .dataframe tbody tr th:only-of-type {\n",
              "        vertical-align: middle;\n",
              "    }\n",
              "\n",
              "    .dataframe tbody tr th {\n",
              "        vertical-align: top;\n",
              "    }\n",
              "\n",
              "    .dataframe thead th {\n",
              "        text-align: right;\n",
              "    }\n",
              "</style>\n",
              "<table border=\"1\" class=\"dataframe\">\n",
              "  <thead>\n",
              "    <tr style=\"text-align: right;\">\n",
              "      <th></th>\n",
              "      <th>age</th>\n",
              "      <th>workclass</th>\n",
              "      <th>fnlwgt</th>\n",
              "      <th>education</th>\n",
              "      <th>education-num</th>\n",
              "      <th>marital-status</th>\n",
              "      <th>occupation</th>\n",
              "      <th>relationship</th>\n",
              "      <th>race</th>\n",
              "      <th>sex</th>\n",
              "      <th>capital-gain</th>\n",
              "      <th>capital-loss</th>\n",
              "      <th>hours-per-week</th>\n",
              "      <th>native-country</th>\n",
              "      <th>salary</th>\n",
              "    </tr>\n",
              "  </thead>\n",
              "  <tbody>\n",
              "    <tr>\n",
              "      <th>0</th>\n",
              "      <td>39</td>\n",
              "      <td>State-gov</td>\n",
              "      <td>77516</td>\n",
              "      <td>Bachelors</td>\n",
              "      <td>13</td>\n",
              "      <td>Never-married</td>\n",
              "      <td>Adm-clerical</td>\n",
              "      <td>Not-in-family</td>\n",
              "      <td>White</td>\n",
              "      <td>Male</td>\n",
              "      <td>2174</td>\n",
              "      <td>0</td>\n",
              "      <td>40</td>\n",
              "      <td>United-States</td>\n",
              "      <td>&lt;=50K</td>\n",
              "    </tr>\n",
              "    <tr>\n",
              "      <th>1</th>\n",
              "      <td>50</td>\n",
              "      <td>Self-emp-not-inc</td>\n",
              "      <td>83311</td>\n",
              "      <td>Bachelors</td>\n",
              "      <td>13</td>\n",
              "      <td>Married-civ-spouse</td>\n",
              "      <td>Exec-managerial</td>\n",
              "      <td>Husband</td>\n",
              "      <td>White</td>\n",
              "      <td>Male</td>\n",
              "      <td>0</td>\n",
              "      <td>0</td>\n",
              "      <td>13</td>\n",
              "      <td>United-States</td>\n",
              "      <td>&lt;=50K</td>\n",
              "    </tr>\n",
              "    <tr>\n",
              "      <th>2</th>\n",
              "      <td>38</td>\n",
              "      <td>Private</td>\n",
              "      <td>215646</td>\n",
              "      <td>HS-grad</td>\n",
              "      <td>9</td>\n",
              "      <td>Divorced</td>\n",
              "      <td>Handlers-cleaners</td>\n",
              "      <td>Not-in-family</td>\n",
              "      <td>White</td>\n",
              "      <td>Male</td>\n",
              "      <td>0</td>\n",
              "      <td>0</td>\n",
              "      <td>40</td>\n",
              "      <td>United-States</td>\n",
              "      <td>&lt;=50K</td>\n",
              "    </tr>\n",
              "    <tr>\n",
              "      <th>3</th>\n",
              "      <td>53</td>\n",
              "      <td>Private</td>\n",
              "      <td>234721</td>\n",
              "      <td>11th</td>\n",
              "      <td>7</td>\n",
              "      <td>Married-civ-spouse</td>\n",
              "      <td>Handlers-cleaners</td>\n",
              "      <td>Husband</td>\n",
              "      <td>Black</td>\n",
              "      <td>Male</td>\n",
              "      <td>0</td>\n",
              "      <td>0</td>\n",
              "      <td>40</td>\n",
              "      <td>United-States</td>\n",
              "      <td>&lt;=50K</td>\n",
              "    </tr>\n",
              "    <tr>\n",
              "      <th>4</th>\n",
              "      <td>28</td>\n",
              "      <td>Private</td>\n",
              "      <td>338409</td>\n",
              "      <td>Bachelors</td>\n",
              "      <td>13</td>\n",
              "      <td>Married-civ-spouse</td>\n",
              "      <td>Prof-specialty</td>\n",
              "      <td>Wife</td>\n",
              "      <td>Black</td>\n",
              "      <td>Female</td>\n",
              "      <td>0</td>\n",
              "      <td>0</td>\n",
              "      <td>40</td>\n",
              "      <td>Cuba</td>\n",
              "      <td>&lt;=50K</td>\n",
              "    </tr>\n",
              "  </tbody>\n",
              "</table>\n",
              "</div>"
            ],
            "text/plain": [
              "   age         workclass  fnlwgt  ... hours-per-week  native-country salary\n",
              "0   39         State-gov   77516  ...             40   United-States  <=50K\n",
              "1   50  Self-emp-not-inc   83311  ...             13   United-States  <=50K\n",
              "2   38           Private  215646  ...             40   United-States  <=50K\n",
              "3   53           Private  234721  ...             40   United-States  <=50K\n",
              "4   28           Private  338409  ...             40            Cuba  <=50K\n",
              "\n",
              "[5 rows x 15 columns]"
            ]
          },
          "metadata": {},
          "execution_count": 67
        }
      ]
    },
    {
      "cell_type": "code",
      "metadata": {
        "colab": {
          "base_uri": "https://localhost:8080/",
          "height": 297
        },
        "id": "mrtQJEovFadG",
        "outputId": "9ac56641-70e1-468d-9013-d7d99d552f24"
      },
      "source": [
        "df.describe() # смотрим базовые числовые показатели"
      ],
      "execution_count": null,
      "outputs": [
        {
          "output_type": "execute_result",
          "data": {
            "text/html": [
              "<div>\n",
              "<style scoped>\n",
              "    .dataframe tbody tr th:only-of-type {\n",
              "        vertical-align: middle;\n",
              "    }\n",
              "\n",
              "    .dataframe tbody tr th {\n",
              "        vertical-align: top;\n",
              "    }\n",
              "\n",
              "    .dataframe thead th {\n",
              "        text-align: right;\n",
              "    }\n",
              "</style>\n",
              "<table border=\"1\" class=\"dataframe\">\n",
              "  <thead>\n",
              "    <tr style=\"text-align: right;\">\n",
              "      <th></th>\n",
              "      <th>age</th>\n",
              "      <th>fnlwgt</th>\n",
              "      <th>education-num</th>\n",
              "      <th>capital-gain</th>\n",
              "      <th>capital-loss</th>\n",
              "      <th>hours-per-week</th>\n",
              "    </tr>\n",
              "  </thead>\n",
              "  <tbody>\n",
              "    <tr>\n",
              "      <th>count</th>\n",
              "      <td>32,561.0</td>\n",
              "      <td>32,561.0</td>\n",
              "      <td>32,561.0</td>\n",
              "      <td>32,561.0</td>\n",
              "      <td>32,561.0</td>\n",
              "      <td>32,561.0</td>\n",
              "    </tr>\n",
              "    <tr>\n",
              "      <th>mean</th>\n",
              "      <td>38.6</td>\n",
              "      <td>189,778.4</td>\n",
              "      <td>10.1</td>\n",
              "      <td>1,077.6</td>\n",
              "      <td>87.3</td>\n",
              "      <td>40.4</td>\n",
              "    </tr>\n",
              "    <tr>\n",
              "      <th>std</th>\n",
              "      <td>13.6</td>\n",
              "      <td>105,550.0</td>\n",
              "      <td>2.6</td>\n",
              "      <td>7,385.3</td>\n",
              "      <td>403.0</td>\n",
              "      <td>12.3</td>\n",
              "    </tr>\n",
              "    <tr>\n",
              "      <th>min</th>\n",
              "      <td>17.0</td>\n",
              "      <td>12,285.0</td>\n",
              "      <td>1.0</td>\n",
              "      <td>0.0</td>\n",
              "      <td>0.0</td>\n",
              "      <td>1.0</td>\n",
              "    </tr>\n",
              "    <tr>\n",
              "      <th>25%</th>\n",
              "      <td>28.0</td>\n",
              "      <td>117,827.0</td>\n",
              "      <td>9.0</td>\n",
              "      <td>0.0</td>\n",
              "      <td>0.0</td>\n",
              "      <td>40.0</td>\n",
              "    </tr>\n",
              "    <tr>\n",
              "      <th>50%</th>\n",
              "      <td>37.0</td>\n",
              "      <td>178,356.0</td>\n",
              "      <td>10.0</td>\n",
              "      <td>0.0</td>\n",
              "      <td>0.0</td>\n",
              "      <td>40.0</td>\n",
              "    </tr>\n",
              "    <tr>\n",
              "      <th>75%</th>\n",
              "      <td>48.0</td>\n",
              "      <td>237,051.0</td>\n",
              "      <td>12.0</td>\n",
              "      <td>0.0</td>\n",
              "      <td>0.0</td>\n",
              "      <td>45.0</td>\n",
              "    </tr>\n",
              "    <tr>\n",
              "      <th>max</th>\n",
              "      <td>90.0</td>\n",
              "      <td>1,484,705.0</td>\n",
              "      <td>16.0</td>\n",
              "      <td>99,999.0</td>\n",
              "      <td>4,356.0</td>\n",
              "      <td>99.0</td>\n",
              "    </tr>\n",
              "  </tbody>\n",
              "</table>\n",
              "</div>"
            ],
            "text/plain": [
              "           age      fnlwgt  ...  capital-loss  hours-per-week\n",
              "count 32,561.0    32,561.0  ...      32,561.0        32,561.0\n",
              "mean      38.6   189,778.4  ...          87.3            40.4\n",
              "std       13.6   105,550.0  ...         403.0            12.3\n",
              "min       17.0    12,285.0  ...           0.0             1.0\n",
              "25%       28.0   117,827.0  ...           0.0            40.0\n",
              "50%       37.0   178,356.0  ...           0.0            40.0\n",
              "75%       48.0   237,051.0  ...           0.0            45.0\n",
              "max       90.0 1,484,705.0  ...       4,356.0            99.0\n",
              "\n",
              "[8 rows x 6 columns]"
            ]
          },
          "metadata": {},
          "execution_count": 68
        }
      ]
    },
    {
      "cell_type": "code",
      "metadata": {
        "colab": {
          "base_uri": "https://localhost:8080/"
        },
        "id": "GbIG9H7A75Xv",
        "outputId": "900a90e4-3a5f-4320-988f-59e84d9bcfc5"
      },
      "source": [
        "df.info() # проверка на пустые значения"
      ],
      "execution_count": null,
      "outputs": [
        {
          "output_type": "stream",
          "name": "stdout",
          "text": [
            "<class 'pandas.core.frame.DataFrame'>\n",
            "RangeIndex: 32561 entries, 0 to 32560\n",
            "Data columns (total 15 columns):\n",
            " #   Column          Non-Null Count  Dtype \n",
            "---  ------          --------------  ----- \n",
            " 0   age             32561 non-null  int64 \n",
            " 1   workclass       32561 non-null  object\n",
            " 2   fnlwgt          32561 non-null  int64 \n",
            " 3   education       32561 non-null  object\n",
            " 4   education-num   32561 non-null  int64 \n",
            " 5   marital-status  32561 non-null  object\n",
            " 6   occupation      32561 non-null  object\n",
            " 7   relationship    32561 non-null  object\n",
            " 8   race            32561 non-null  object\n",
            " 9   sex             32561 non-null  object\n",
            " 10  capital-gain    32561 non-null  int64 \n",
            " 11  capital-loss    32561 non-null  int64 \n",
            " 12  hours-per-week  32561 non-null  int64 \n",
            " 13  native-country  32561 non-null  object\n",
            " 14  salary          32561 non-null  object\n",
            "dtypes: int64(6), object(9)\n",
            "memory usage: 3.7+ MB\n"
          ]
        }
      ]
    },
    {
      "cell_type": "markdown",
      "metadata": {
        "id": "6RiKBqP08nVO"
      },
      "source": [
        "## По заданию необходимо ответить на ряд вопросов:"
      ]
    },
    {
      "cell_type": "markdown",
      "metadata": {
        "id": "7UPJ3bY18kC2"
      },
      "source": [
        "1. Сколько мужчин и женщин представлены в этом наборе данных?"
      ]
    },
    {
      "cell_type": "code",
      "metadata": {
        "colab": {
          "base_uri": "https://localhost:8080/"
        },
        "id": "UKo-MUwVAXJs",
        "outputId": "754432ff-8350-4151-c75b-7a15cd30ee67"
      },
      "source": [
        "df.groupby('sex')['sex'].count()"
      ],
      "execution_count": null,
      "outputs": [
        {
          "output_type": "execute_result",
          "data": {
            "text/plain": [
              "sex\n",
              "Female    10771\n",
              "Male      21790\n",
              "Name: sex, dtype: int64"
            ]
          },
          "metadata": {},
          "execution_count": 70
        }
      ]
    },
    {
      "cell_type": "markdown",
      "metadata": {
        "id": "1ZYsGOZ46zqC"
      },
      "source": [
        "2. Каков средний возраст (возрастная характеристика) женщин?"
      ]
    },
    {
      "cell_type": "code",
      "metadata": {
        "colab": {
          "base_uri": "https://localhost:8080/"
        },
        "id": "HumFCVXT8HZK",
        "outputId": "139aa31d-af5e-4e7f-b62d-758778fa842e"
      },
      "source": [
        "df[df['sex'] == 'Female']['age'].mean()"
      ],
      "execution_count": null,
      "outputs": [
        {
          "output_type": "execute_result",
          "data": {
            "text/plain": [
              "36.85823043357163"
            ]
          },
          "metadata": {},
          "execution_count": 71
        }
      ]
    },
    {
      "cell_type": "markdown",
      "metadata": {
        "id": "SozSEdjADhZg"
      },
      "source": [
        "3. Каков процент граждан Германии?"
      ]
    },
    {
      "cell_type": "code",
      "metadata": {
        "colab": {
          "base_uri": "https://localhost:8080/"
        },
        "id": "XFRMDIgBDGh9",
        "outputId": "85645c85-374e-4cbd-a66f-e892dbdc0c45"
      },
      "source": [
        "all = df['native-country'].count()\n",
        "germany = df[df['native-country'] == 'Germany']['native-country'].count()\n",
        "germany * 100 / all"
      ],
      "execution_count": null,
      "outputs": [
        {
          "output_type": "execute_result",
          "data": {
            "text/plain": [
              "0.42074874850281013"
            ]
          },
          "metadata": {},
          "execution_count": 72
        }
      ]
    },
    {
      "cell_type": "markdown",
      "metadata": {
        "id": "rPkLvWGN7Nzx"
      },
      "source": [
        "4-5. Каковы среднее значение и стандартное отклонение возраста для тех, кто зарабатывает более 50 тысяч в год (функция заработной платы), и тех, кто зарабатывает менее 50 тысяч в год? **"
      ]
    },
    {
      "cell_type": "code",
      "metadata": {
        "colab": {
          "base_uri": "https://localhost:8080/"
        },
        "id": "KpyPyDCH4pYc",
        "outputId": "18e5020e-b2fe-4675-9e0f-734efecfad2e"
      },
      "source": [
        "print('Среднее значение возраста для тех, кто зарабатывает более 50 тысяч в год', df[df['salary'] == '>50K']['age'].mean())\n",
        "print('Стандартное отклонение возраста для тех, кто зарабатывает более 50 тысяч в год', df[df['salary'] == '>50K']['age'].std())\n",
        "print('Среднее значение возраста для тех, кто зарабатывает 50 и менее тысяч в год', df[df['salary'] == '<=50K']['age'].mean())\n",
        "print('Стандартное отклонение возраста для тех, кто зарабатывает 50 и менее тысяч в год', df[df['salary'] == '<=50K']['age'].std())"
      ],
      "execution_count": null,
      "outputs": [
        {
          "output_type": "stream",
          "name": "stdout",
          "text": [
            "Среднее значение возраста для тех, кто зарабатывает более 50 тысяч в год 44.24984058155847\n",
            "Стандартное отклонение возраста для тех, кто зарабатывает более 50 тысяч в год 10.51902771985177\n",
            "Среднее значение возраста для тех, кто зарабатывает 50 и менее тысяч в год 36.78373786407767\n",
            "Стандартное отклонение возраста для тех, кто зарабатывает 50 и менее тысяч в год 14.020088490824813\n"
          ]
        }
      ]
    },
    {
      "cell_type": "markdown",
      "metadata": {
        "id": "L9QFKqVU9VNA"
      },
      "source": [
        "6. Верно ли, что люди, которые зарабатывают более 50 тысяч, имеют как минимум среднее образование? (образование - бакалавриат, профшкола, ассистент, доцент, магистр или докторская степень)"
      ]
    },
    {
      "cell_type": "code",
      "metadata": {
        "colab": {
          "base_uri": "https://localhost:8080/",
          "height": 419
        },
        "id": "QiNLRzKA9Ujh",
        "outputId": "ebdcb73a-ff6c-4b9e-b9cc-15ff7dc39039"
      },
      "source": [
        "df[(df['salary'] == '>50K') & (df['education'] != 'Bachelors') & (df['education'] != 'Masters') & (df['education'] != 'Prof-school') & (df['education'] != 'Assoc-acdm') & (df['education'] != 'Assoc-voc') & (df['education'] != 'Doctorate')]"
      ],
      "execution_count": null,
      "outputs": [
        {
          "output_type": "execute_result",
          "data": {
            "text/html": [
              "<div>\n",
              "<style scoped>\n",
              "    .dataframe tbody tr th:only-of-type {\n",
              "        vertical-align: middle;\n",
              "    }\n",
              "\n",
              "    .dataframe tbody tr th {\n",
              "        vertical-align: top;\n",
              "    }\n",
              "\n",
              "    .dataframe thead th {\n",
              "        text-align: right;\n",
              "    }\n",
              "</style>\n",
              "<table border=\"1\" class=\"dataframe\">\n",
              "  <thead>\n",
              "    <tr style=\"text-align: right;\">\n",
              "      <th></th>\n",
              "      <th>age</th>\n",
              "      <th>workclass</th>\n",
              "      <th>fnlwgt</th>\n",
              "      <th>education</th>\n",
              "      <th>education-num</th>\n",
              "      <th>marital-status</th>\n",
              "      <th>occupation</th>\n",
              "      <th>relationship</th>\n",
              "      <th>race</th>\n",
              "      <th>sex</th>\n",
              "      <th>capital-gain</th>\n",
              "      <th>capital-loss</th>\n",
              "      <th>hours-per-week</th>\n",
              "      <th>native-country</th>\n",
              "      <th>salary</th>\n",
              "    </tr>\n",
              "  </thead>\n",
              "  <tbody>\n",
              "    <tr>\n",
              "      <th>7</th>\n",
              "      <td>52</td>\n",
              "      <td>Self-emp-not-inc</td>\n",
              "      <td>209642</td>\n",
              "      <td>HS-grad</td>\n",
              "      <td>9</td>\n",
              "      <td>Married-civ-spouse</td>\n",
              "      <td>Exec-managerial</td>\n",
              "      <td>Husband</td>\n",
              "      <td>White</td>\n",
              "      <td>Male</td>\n",
              "      <td>0</td>\n",
              "      <td>0</td>\n",
              "      <td>45</td>\n",
              "      <td>United-States</td>\n",
              "      <td>&gt;50K</td>\n",
              "    </tr>\n",
              "    <tr>\n",
              "      <th>10</th>\n",
              "      <td>37</td>\n",
              "      <td>Private</td>\n",
              "      <td>280464</td>\n",
              "      <td>Some-college</td>\n",
              "      <td>10</td>\n",
              "      <td>Married-civ-spouse</td>\n",
              "      <td>Exec-managerial</td>\n",
              "      <td>Husband</td>\n",
              "      <td>Black</td>\n",
              "      <td>Male</td>\n",
              "      <td>0</td>\n",
              "      <td>0</td>\n",
              "      <td>80</td>\n",
              "      <td>United-States</td>\n",
              "      <td>&gt;50K</td>\n",
              "    </tr>\n",
              "    <tr>\n",
              "      <th>27</th>\n",
              "      <td>54</td>\n",
              "      <td>?</td>\n",
              "      <td>180211</td>\n",
              "      <td>Some-college</td>\n",
              "      <td>10</td>\n",
              "      <td>Married-civ-spouse</td>\n",
              "      <td>?</td>\n",
              "      <td>Husband</td>\n",
              "      <td>Asian-Pac-Islander</td>\n",
              "      <td>Male</td>\n",
              "      <td>0</td>\n",
              "      <td>0</td>\n",
              "      <td>60</td>\n",
              "      <td>South</td>\n",
              "      <td>&gt;50K</td>\n",
              "    </tr>\n",
              "    <tr>\n",
              "      <th>38</th>\n",
              "      <td>31</td>\n",
              "      <td>Private</td>\n",
              "      <td>84154</td>\n",
              "      <td>Some-college</td>\n",
              "      <td>10</td>\n",
              "      <td>Married-civ-spouse</td>\n",
              "      <td>Sales</td>\n",
              "      <td>Husband</td>\n",
              "      <td>White</td>\n",
              "      <td>Male</td>\n",
              "      <td>0</td>\n",
              "      <td>0</td>\n",
              "      <td>38</td>\n",
              "      <td>?</td>\n",
              "      <td>&gt;50K</td>\n",
              "    </tr>\n",
              "    <tr>\n",
              "      <th>55</th>\n",
              "      <td>43</td>\n",
              "      <td>Private</td>\n",
              "      <td>237993</td>\n",
              "      <td>Some-college</td>\n",
              "      <td>10</td>\n",
              "      <td>Married-civ-spouse</td>\n",
              "      <td>Tech-support</td>\n",
              "      <td>Husband</td>\n",
              "      <td>White</td>\n",
              "      <td>Male</td>\n",
              "      <td>0</td>\n",
              "      <td>0</td>\n",
              "      <td>40</td>\n",
              "      <td>United-States</td>\n",
              "      <td>&gt;50K</td>\n",
              "    </tr>\n",
              "    <tr>\n",
              "      <th>...</th>\n",
              "      <td>...</td>\n",
              "      <td>...</td>\n",
              "      <td>...</td>\n",
              "      <td>...</td>\n",
              "      <td>...</td>\n",
              "      <td>...</td>\n",
              "      <td>...</td>\n",
              "      <td>...</td>\n",
              "      <td>...</td>\n",
              "      <td>...</td>\n",
              "      <td>...</td>\n",
              "      <td>...</td>\n",
              "      <td>...</td>\n",
              "      <td>...</td>\n",
              "      <td>...</td>\n",
              "    </tr>\n",
              "    <tr>\n",
              "      <th>32510</th>\n",
              "      <td>39</td>\n",
              "      <td>Private</td>\n",
              "      <td>107302</td>\n",
              "      <td>HS-grad</td>\n",
              "      <td>9</td>\n",
              "      <td>Married-civ-spouse</td>\n",
              "      <td>Prof-specialty</td>\n",
              "      <td>Husband</td>\n",
              "      <td>White</td>\n",
              "      <td>Male</td>\n",
              "      <td>0</td>\n",
              "      <td>0</td>\n",
              "      <td>45</td>\n",
              "      <td>?</td>\n",
              "      <td>&gt;50K</td>\n",
              "    </tr>\n",
              "    <tr>\n",
              "      <th>32518</th>\n",
              "      <td>57</td>\n",
              "      <td>Local-gov</td>\n",
              "      <td>110417</td>\n",
              "      <td>HS-grad</td>\n",
              "      <td>9</td>\n",
              "      <td>Married-civ-spouse</td>\n",
              "      <td>Craft-repair</td>\n",
              "      <td>Husband</td>\n",
              "      <td>White</td>\n",
              "      <td>Male</td>\n",
              "      <td>99999</td>\n",
              "      <td>0</td>\n",
              "      <td>40</td>\n",
              "      <td>United-States</td>\n",
              "      <td>&gt;50K</td>\n",
              "    </tr>\n",
              "    <tr>\n",
              "      <th>32519</th>\n",
              "      <td>46</td>\n",
              "      <td>Private</td>\n",
              "      <td>364548</td>\n",
              "      <td>Some-college</td>\n",
              "      <td>10</td>\n",
              "      <td>Married-civ-spouse</td>\n",
              "      <td>Exec-managerial</td>\n",
              "      <td>Husband</td>\n",
              "      <td>White</td>\n",
              "      <td>Male</td>\n",
              "      <td>0</td>\n",
              "      <td>0</td>\n",
              "      <td>48</td>\n",
              "      <td>United-States</td>\n",
              "      <td>&gt;50K</td>\n",
              "    </tr>\n",
              "    <tr>\n",
              "      <th>32557</th>\n",
              "      <td>40</td>\n",
              "      <td>Private</td>\n",
              "      <td>154374</td>\n",
              "      <td>HS-grad</td>\n",
              "      <td>9</td>\n",
              "      <td>Married-civ-spouse</td>\n",
              "      <td>Machine-op-inspct</td>\n",
              "      <td>Husband</td>\n",
              "      <td>White</td>\n",
              "      <td>Male</td>\n",
              "      <td>0</td>\n",
              "      <td>0</td>\n",
              "      <td>40</td>\n",
              "      <td>United-States</td>\n",
              "      <td>&gt;50K</td>\n",
              "    </tr>\n",
              "    <tr>\n",
              "      <th>32560</th>\n",
              "      <td>52</td>\n",
              "      <td>Self-emp-inc</td>\n",
              "      <td>287927</td>\n",
              "      <td>HS-grad</td>\n",
              "      <td>9</td>\n",
              "      <td>Married-civ-spouse</td>\n",
              "      <td>Exec-managerial</td>\n",
              "      <td>Wife</td>\n",
              "      <td>White</td>\n",
              "      <td>Female</td>\n",
              "      <td>15024</td>\n",
              "      <td>0</td>\n",
              "      <td>40</td>\n",
              "      <td>United-States</td>\n",
              "      <td>&gt;50K</td>\n",
              "    </tr>\n",
              "  </tbody>\n",
              "</table>\n",
              "<p>3306 rows × 15 columns</p>\n",
              "</div>"
            ],
            "text/plain": [
              "       age         workclass  fnlwgt  ... hours-per-week  native-country salary\n",
              "7       52  Self-emp-not-inc  209642  ...             45   United-States   >50K\n",
              "10      37           Private  280464  ...             80   United-States   >50K\n",
              "27      54                 ?  180211  ...             60           South   >50K\n",
              "38      31           Private   84154  ...             38               ?   >50K\n",
              "55      43           Private  237993  ...             40   United-States   >50K\n",
              "...    ...               ...     ...  ...            ...             ...    ...\n",
              "32510   39           Private  107302  ...             45               ?   >50K\n",
              "32518   57         Local-gov  110417  ...             40   United-States   >50K\n",
              "32519   46           Private  364548  ...             48   United-States   >50K\n",
              "32557   40           Private  154374  ...             40   United-States   >50K\n",
              "32560   52      Self-emp-inc  287927  ...             40   United-States   >50K\n",
              "\n",
              "[3306 rows x 15 columns]"
            ]
          },
          "metadata": {},
          "execution_count": 93
        }
      ]
    },
    {
      "cell_type": "markdown",
      "metadata": {
        "id": "OXp9d76LHs0T"
      },
      "source": [
        "Как мы видим - среди выборки есть как минимум выпускники средней школы. Утверждение не верное."
      ]
    },
    {
      "cell_type": "markdown",
      "metadata": {
        "id": "JyyZvjIIIFdP"
      },
      "source": [
        "7. Отображение статистики возраста для каждой расы (признак расы) и каждого пола (признак пола). Используйте groupby () и describe (). Найдите максимальный возраст мужчин амер-индийско-эскимосской расы. "
      ]
    },
    {
      "cell_type": "code",
      "metadata": {
        "id": "CMwoQRojHD0S",
        "colab": {
          "base_uri": "https://localhost:8080/",
          "height": 235
        },
        "outputId": "04bf450a-472a-474e-d9b7-505b81c4816c"
      },
      "source": [
        "new_df = df[df['sex'] == 'Male'] # оставляем в таблице только мужчин\n",
        "df.groupby(new_df['race'])['age'].describe()"
      ],
      "execution_count": null,
      "outputs": [
        {
          "output_type": "execute_result",
          "data": {
            "text/html": [
              "<div>\n",
              "<style scoped>\n",
              "    .dataframe tbody tr th:only-of-type {\n",
              "        vertical-align: middle;\n",
              "    }\n",
              "\n",
              "    .dataframe tbody tr th {\n",
              "        vertical-align: top;\n",
              "    }\n",
              "\n",
              "    .dataframe thead th {\n",
              "        text-align: right;\n",
              "    }\n",
              "</style>\n",
              "<table border=\"1\" class=\"dataframe\">\n",
              "  <thead>\n",
              "    <tr style=\"text-align: right;\">\n",
              "      <th></th>\n",
              "      <th>count</th>\n",
              "      <th>mean</th>\n",
              "      <th>std</th>\n",
              "      <th>min</th>\n",
              "      <th>25%</th>\n",
              "      <th>50%</th>\n",
              "      <th>75%</th>\n",
              "      <th>max</th>\n",
              "    </tr>\n",
              "    <tr>\n",
              "      <th>race</th>\n",
              "      <th></th>\n",
              "      <th></th>\n",
              "      <th></th>\n",
              "      <th></th>\n",
              "      <th></th>\n",
              "      <th></th>\n",
              "      <th></th>\n",
              "      <th></th>\n",
              "    </tr>\n",
              "  </thead>\n",
              "  <tbody>\n",
              "    <tr>\n",
              "      <th>Amer-Indian-Eskimo</th>\n",
              "      <td>192.0</td>\n",
              "      <td>37.2</td>\n",
              "      <td>12.0</td>\n",
              "      <td>17.0</td>\n",
              "      <td>28.0</td>\n",
              "      <td>35.0</td>\n",
              "      <td>45.0</td>\n",
              "      <td>82.0</td>\n",
              "    </tr>\n",
              "    <tr>\n",
              "      <th>Asian-Pac-Islander</th>\n",
              "      <td>693.0</td>\n",
              "      <td>39.1</td>\n",
              "      <td>12.9</td>\n",
              "      <td>18.0</td>\n",
              "      <td>29.0</td>\n",
              "      <td>37.0</td>\n",
              "      <td>46.0</td>\n",
              "      <td>90.0</td>\n",
              "    </tr>\n",
              "    <tr>\n",
              "      <th>Black</th>\n",
              "      <td>1,569.0</td>\n",
              "      <td>37.7</td>\n",
              "      <td>12.9</td>\n",
              "      <td>17.0</td>\n",
              "      <td>27.0</td>\n",
              "      <td>36.0</td>\n",
              "      <td>46.0</td>\n",
              "      <td>90.0</td>\n",
              "    </tr>\n",
              "    <tr>\n",
              "      <th>Other</th>\n",
              "      <td>162.0</td>\n",
              "      <td>34.7</td>\n",
              "      <td>11.4</td>\n",
              "      <td>17.0</td>\n",
              "      <td>26.0</td>\n",
              "      <td>32.0</td>\n",
              "      <td>42.0</td>\n",
              "      <td>77.0</td>\n",
              "    </tr>\n",
              "    <tr>\n",
              "      <th>White</th>\n",
              "      <td>19,174.0</td>\n",
              "      <td>39.7</td>\n",
              "      <td>13.4</td>\n",
              "      <td>17.0</td>\n",
              "      <td>29.0</td>\n",
              "      <td>38.0</td>\n",
              "      <td>49.0</td>\n",
              "      <td>90.0</td>\n",
              "    </tr>\n",
              "  </tbody>\n",
              "</table>\n",
              "</div>"
            ],
            "text/plain": [
              "                      count  mean  std  min  25%  50%  75%  max\n",
              "race                                                           \n",
              "Amer-Indian-Eskimo    192.0  37.2 12.0 17.0 28.0 35.0 45.0 82.0\n",
              "Asian-Pac-Islander    693.0  39.1 12.9 18.0 29.0 37.0 46.0 90.0\n",
              "Black               1,569.0  37.7 12.9 17.0 27.0 36.0 46.0 90.0\n",
              "Other                 162.0  34.7 11.4 17.0 26.0 32.0 42.0 77.0\n",
              "White              19,174.0  39.7 13.4 17.0 29.0 38.0 49.0 90.0"
            ]
          },
          "metadata": {},
          "execution_count": 137
        }
      ]
    },
    {
      "cell_type": "markdown",
      "metadata": {
        "id": "fK905zZpOYYm"
      },
      "source": [
        "Максимальный возраст мужчин амер-индийско-эскимосской расы: 82 года"
      ]
    },
    {
      "cell_type": "markdown",
      "metadata": {
        "id": "C51Vw1x3PBKq"
      },
      "source": [
        "8. Среди кого больше доля тех, кто много зарабатывает (> 50K): женатые или холостые мужчины (признак семейного положения)? Женатыми считаются те, кто имеет семейное положение, начиная с женат (женат-гражданский-супруг, женат-супруг-отсутствующий или женат-AF-супруг), остальные считаются холостяками."
      ]
    },
    {
      "cell_type": "code",
      "metadata": {
        "colab": {
          "base_uri": "https://localhost:8080/"
        },
        "id": "2W5nhkvzPRMD",
        "outputId": "695201ba-2c64-4d9a-f17b-ac4631203fc1"
      },
      "source": [
        "new_df = df[(df['sex'] == 'Male') & (df['salary'] == '>50K')] # оставляем в таблице только мужчин с заработком от 50К\n",
        "\n",
        "count_married = new_df[(new_df['marital-status'] == 'Married-civ-spouse') | (new_df['marital-status'] == 'Married-spouse-absent') | (new_df['marital-status'] == 'Married-AF-spouse')]['marital-status'].count()\n",
        "count_not_married = new_df['marital-status'].count() - count_married\n",
        "if count_married > count_not_married:\n",
        "  print('Женатые чаще зарабатывают больше 50К, чем холостые (женатые -', count_married, ') (холостые -', count_not_married, ')')\n",
        "else:\n",
        "  print('Холостые чаще зарабатывают больше 50К, чем женатые (женатые -', count_married, ') (холостые -', count_not_married, ')') "
      ],
      "execution_count": null,
      "outputs": [
        {
          "output_type": "stream",
          "name": "stdout",
          "text": [
            "Женатые чаще зарабатывают больше 50К, чем холостые (женатые - 5965 ) (холостые - 697 )\n"
          ]
        }
      ]
    },
    {
      "cell_type": "markdown",
      "metadata": {
        "id": "iN3RKukUSkjV"
      },
      "source": [
        "9. Какое максимальное количество часов человек работает в неделю (функция часов в неделю)? Сколько людей работают такое количество часов и каков процент среди них тех, кто много зарабатывает (> 50 тысяч)?"
      ]
    },
    {
      "cell_type": "code",
      "metadata": {
        "colab": {
          "base_uri": "https://localhost:8080/"
        },
        "id": "Y5gx-mYrSvr-",
        "outputId": "54b0aa01-7132-4e94-ae87-4b14cd59ca02"
      },
      "source": [
        "max_work = df['hours-per-week'].max()\n",
        "print('Человек работает максимальное количество (чесов в неделю):', max_work)\n",
        "max_work_caunt = df[df['hours-per-week'] == max_work]['hours-per-week'].count()\n",
        "print('Количество людей, кто работает', max_work, 'часов в неделю -', max_work_caunt)\n",
        "max_work_proc = df[(df['hours-per-week'] == max_work) & (df['salary'] == '>50K')]['hours-per-week'].count() * 100 / max_work_caunt\n",
        "print('Процент людей, кто работает', max_work, 'часов в неделю и заработывает более 50К:', max_work_proc)"
      ],
      "execution_count": null,
      "outputs": [
        {
          "output_type": "stream",
          "name": "stdout",
          "text": [
            "Человек работает максимальное количество (чесов в неделю): 99\n",
            "Количество людей, кто работает 99 часов в неделю - 85\n",
            "Процент людей, кто работает 99 часов в неделю и заработывает более 50К: 29.41176470588235\n"
          ]
        }
      ]
    },
    {
      "cell_type": "markdown",
      "metadata": {
        "id": "8YohwT7qW1C9"
      },
      "source": [
        "10. Подсчитайте среднее время работы (часы в неделю) для тех, кто зарабатывает мало и много (зарплата) для каждой страны (родной страны). Что это будет для Японии?"
      ]
    },
    {
      "cell_type": "code",
      "metadata": {
        "id": "xNbhDx3DW6sN",
        "colab": {
          "base_uri": "https://localhost:8080/"
        },
        "outputId": "8c952441-e1af-4892-b3d2-bda86767c0e5"
      },
      "source": [
        "df_little_salary = df[(df['salary'] == '<=50K')]\n",
        "df_lot_salary = df[(df['salary'] == '>50K')]\n",
        "# pd.crosstab(df['salary'], df['native-country'])\n",
        "df_little_salary.groupby([\"native-country\" ])['hours-per-week'].mean(), df_lot_salary.groupby([\"native-country\" ])['hours-per-week'].mean()\n"
      ],
      "execution_count": null,
      "outputs": [
        {
          "output_type": "execute_result",
          "data": {
            "text/plain": [
              "(native-country\n",
              " ?                            40.2\n",
              " Cambodia                     41.4\n",
              " Canada                       37.9\n",
              " China                        37.4\n",
              " Columbia                     38.7\n",
              " Cuba                         38.0\n",
              " Dominican-Republic           42.3\n",
              " Ecuador                      38.0\n",
              " El-Salvador                  36.0\n",
              " England                      40.5\n",
              " France                       41.1\n",
              " Germany                      39.1\n",
              " Greece                       41.8\n",
              " Guatemala                    39.4\n",
              " Haiti                        36.3\n",
              " Holand-Netherlands           40.0\n",
              " Honduras                     34.3\n",
              " Hong                         39.1\n",
              " Hungary                      31.3\n",
              " India                        38.2\n",
              " Iran                         41.4\n",
              " Ireland                      40.9\n",
              " Italy                        39.6\n",
              " Jamaica                      38.2\n",
              " Japan                        41.0\n",
              " Laos                         40.4\n",
              " Mexico                       40.0\n",
              " Nicaragua                    36.1\n",
              " Outlying-US(Guam-USVI-etc)   41.9\n",
              " Peru                         35.1\n",
              " Philippines                  38.1\n",
              " Poland                       38.2\n",
              " Portugal                     41.9\n",
              " Puerto-Rico                  38.5\n",
              " Scotland                     39.4\n",
              " South                        40.2\n",
              " Taiwan                       33.8\n",
              " Thailand                     42.9\n",
              " Trinadad&Tobago              37.1\n",
              " United-States                38.8\n",
              " Vietnam                      37.2\n",
              " Yugoslavia                   41.6\n",
              " Name: hours-per-week, dtype: float64, native-country\n",
              " ?                    45.5\n",
              " Cambodia             40.0\n",
              " Canada               45.6\n",
              " China                38.9\n",
              " Columbia             50.0\n",
              " Cuba                 42.4\n",
              " Dominican-Republic   47.0\n",
              " Ecuador              48.8\n",
              " El-Salvador          45.0\n",
              " England              44.5\n",
              " France               50.8\n",
              " Germany              45.0\n",
              " Greece               50.6\n",
              " Guatemala            36.7\n",
              " Haiti                42.8\n",
              " Honduras             60.0\n",
              " Hong                 45.0\n",
              " Hungary              50.0\n",
              " India                46.5\n",
              " Iran                 47.5\n",
              " Ireland              48.0\n",
              " Italy                45.4\n",
              " Jamaica              41.1\n",
              " Japan                48.0\n",
              " Laos                 40.0\n",
              " Mexico               46.6\n",
              " Nicaragua            37.5\n",
              " Peru                 40.0\n",
              " Philippines          43.0\n",
              " Poland               39.0\n",
              " Portugal             41.5\n",
              " Puerto-Rico          39.4\n",
              " Scotland             46.7\n",
              " South                51.4\n",
              " Taiwan               46.8\n",
              " Thailand             58.3\n",
              " Trinadad&Tobago      40.0\n",
              " United-States        45.5\n",
              " Vietnam              39.2\n",
              " Yugoslavia           49.5\n",
              " Name: hours-per-week, dtype: float64)"
            ]
          },
          "metadata": {},
          "execution_count": 173
        }
      ]
    },
    {
      "cell_type": "markdown",
      "metadata": {
        "id": "wWzv4d9Iaxtg"
      },
      "source": [
        "Для Японии. Среднее время работы для тех кто много зарабатывает: 48.0 часов в неделю. Среднее время работы для тех кто мало зарабатывает: 41.0 час в неделю."
      ]
    }
  ]
}